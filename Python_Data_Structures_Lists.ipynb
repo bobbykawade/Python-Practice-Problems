{
  "nbformat": 4,
  "nbformat_minor": 0,
  "metadata": {
    "colab": {
      "name": "Python Data Structures - Lists.ipynb",
      "provenance": [],
      "collapsed_sections": [],
      "authorship_tag": "ABX9TyMungxDO2T89FXhEptTJp4x",
      "include_colab_link": true
    },
    "kernelspec": {
      "name": "python3",
      "display_name": "Python 3"
    },
    "language_info": {
      "name": "python"
    }
  },
  "cells": [
    {
      "cell_type": "markdown",
      "metadata": {
        "id": "view-in-github",
        "colab_type": "text"
      },
      "source": [
        "<a href=\"https://colab.research.google.com/github/bobbykawade/Python-Practice-Problems/blob/bobbykawade-patch-1/Python_Data_Structures_Lists.ipynb\" target=\"_parent\"><img src=\"https://colab.research.google.com/assets/colab-badge.svg\" alt=\"Open In Colab\"/></a>"
      ]
    },
    {
      "cell_type": "markdown",
      "metadata": {
        "id": "WA3SVe6ymy0c"
      },
      "source": [
        "# Strings"
      ]
    },
    {
      "cell_type": "code",
      "metadata": {
        "id": "ZO1LT_ncmf_e"
      },
      "source": [
        "my_str = \"My Name is Bobby Kawade. I am a Data Scientist\""
      ],
      "execution_count": 1,
      "outputs": []
    },
    {
      "cell_type": "code",
      "metadata": {
        "colab": {
          "base_uri": "https://localhost:8080/"
        },
        "id": "Bc-OBW2_nByQ",
        "outputId": "04e7c4f3-a057-48e2-95a9-1e3e0b0f0e12"
      },
      "source": [
        "print(my_str.isalnum())"
      ],
      "execution_count": 2,
      "outputs": [
        {
          "output_type": "stream",
          "text": [
            "False\n"
          ],
          "name": "stdout"
        }
      ]
    },
    {
      "cell_type": "code",
      "metadata": {
        "colab": {
          "base_uri": "https://localhost:8080/"
        },
        "id": "dBg2e1GWnXCw",
        "outputId": "93a95f0e-d54a-436d-d0da-23d612e3e7b5"
      },
      "source": [
        "print((my_str.format()))"
      ],
      "execution_count": 3,
      "outputs": [
        {
          "output_type": "stream",
          "text": [
            "My Name is Bobby Kawade. I am a Data Scientist\n"
          ],
          "name": "stdout"
        }
      ]
    },
    {
      "cell_type": "code",
      "metadata": {
        "id": "xLzP5-3jnhWf"
      },
      "source": [
        "print(my_str.)"
      ],
      "execution_count": null,
      "outputs": []
    },
    {
      "cell_type": "markdown",
      "metadata": {
        "id": "deuhBBnFn7MX"
      },
      "source": [
        "# Lists"
      ]
    },
    {
      "cell_type": "code",
      "metadata": {
        "colab": {
          "base_uri": "https://localhost:8080/"
        },
        "id": "HeJ5fycpn9CG",
        "outputId": "a425c230-410c-4e79-ca04-22f7b0359b98"
      },
      "source": [
        "type([])"
      ],
      "execution_count": 4,
      "outputs": [
        {
          "output_type": "execute_result",
          "data": {
            "text/plain": [
              "list"
            ]
          },
          "metadata": {
            "tags": []
          },
          "execution_count": 4
        }
      ]
    },
    {
      "cell_type": "code",
      "metadata": {
        "colab": {
          "base_uri": "https://localhost:8080/"
        },
        "id": "BSeDNcFSoXCs",
        "outputId": "7e76c764-c6e2-4119-a8fb-06b9f40e9ccf"
      },
      "source": [
        "lst = list()\n",
        "type(lst)"
      ],
      "execution_count": 6,
      "outputs": [
        {
          "output_type": "execute_result",
          "data": {
            "text/plain": [
              "list"
            ]
          },
          "metadata": {
            "tags": []
          },
          "execution_count": 6
        }
      ]
    },
    {
      "cell_type": "code",
      "metadata": {
        "id": "3wys5bqxorbE"
      },
      "source": [
        "lst_1 = ['Maths', 'Bobby', 1, 2, 3, 4, 5.4]"
      ],
      "execution_count": 7,
      "outputs": []
    },
    {
      "cell_type": "code",
      "metadata": {
        "colab": {
          "base_uri": "https://localhost:8080/"
        },
        "id": "KTgB_nx7o5FM",
        "outputId": "c41ff244-6364-4981-eadf-2913b6a91308"
      },
      "source": [
        "lst_1"
      ],
      "execution_count": 8,
      "outputs": [
        {
          "output_type": "execute_result",
          "data": {
            "text/plain": [
              "['Maths', 'Bobby', 1, 2, 3, 4, 5.4]"
            ]
          },
          "metadata": {
            "tags": []
          },
          "execution_count": 8
        }
      ]
    },
    {
      "cell_type": "code",
      "metadata": {
        "id": "2xpGD9zLo62b"
      },
      "source": [
        "## Append\n",
        "lst_1.append('Numbers')"
      ],
      "execution_count": 9,
      "outputs": []
    },
    {
      "cell_type": "code",
      "metadata": {
        "colab": {
          "base_uri": "https://localhost:8080/"
        },
        "id": "5Il7dwpzpCTz",
        "outputId": "399ab20d-4763-4f1b-b6dc-bc685e2e2008"
      },
      "source": [
        "lst_1"
      ],
      "execution_count": 10,
      "outputs": [
        {
          "output_type": "execute_result",
          "data": {
            "text/plain": [
              "['Maths', 'Bobby', 1, 2, 3, 4, 5.4, 'Numbers']"
            ]
          },
          "metadata": {
            "tags": []
          },
          "execution_count": 10
        }
      ]
    },
    {
      "cell_type": "code",
      "metadata": {
        "colab": {
          "base_uri": "https://localhost:8080/"
        },
        "id": "y0STzJNKpJSs",
        "outputId": "3314df07-59e0-4071-a291-f49a267eabd8"
      },
      "source": [
        "## Indexing of the List\n",
        "\n",
        "lst_1[2]"
      ],
      "execution_count": 11,
      "outputs": [
        {
          "output_type": "execute_result",
          "data": {
            "text/plain": [
              "1"
            ]
          },
          "metadata": {
            "tags": []
          },
          "execution_count": 11
        }
      ]
    },
    {
      "cell_type": "code",
      "metadata": {
        "colab": {
          "base_uri": "https://localhost:8080/"
        },
        "id": "iCZFSpy-pm-K",
        "outputId": "27b02359-0a08-4ef8-9fa8-11ec0f073d34"
      },
      "source": [
        "lst_1[1:]"
      ],
      "execution_count": 12,
      "outputs": [
        {
          "output_type": "execute_result",
          "data": {
            "text/plain": [
              "['Bobby', 1, 2, 3, 4, 5.4, 'Numbers']"
            ]
          },
          "metadata": {
            "tags": []
          },
          "execution_count": 12
        }
      ]
    },
    {
      "cell_type": "code",
      "metadata": {
        "colab": {
          "base_uri": "https://localhost:8080/"
        },
        "id": "qbKHbTGypuKR",
        "outputId": "755e02e8-ea3f-413e-db52-84a2a938a360"
      },
      "source": [
        "lst_1[1:6]"
      ],
      "execution_count": 13,
      "outputs": [
        {
          "output_type": "execute_result",
          "data": {
            "text/plain": [
              "['Bobby', 1, 2, 3, 4]"
            ]
          },
          "metadata": {
            "tags": []
          },
          "execution_count": 13
        }
      ]
    },
    {
      "cell_type": "code",
      "metadata": {
        "id": "XttIEh_Kp98R"
      },
      "source": [
        "# Nested List\n",
        "lst_1.append(['Mumbai', 'Data Analysis', 8])"
      ],
      "execution_count": 14,
      "outputs": []
    },
    {
      "cell_type": "code",
      "metadata": {
        "colab": {
          "base_uri": "https://localhost:8080/"
        },
        "id": "4trwldfXqIAa",
        "outputId": "97e32abb-b853-4b6a-b420-609322169ecf"
      },
      "source": [
        "lst_1"
      ],
      "execution_count": 15,
      "outputs": [
        {
          "output_type": "execute_result",
          "data": {
            "text/plain": [
              "['Maths', 'Bobby', 1, 2, 3, 4, 5.4, 'Numbers', ['Mumbai', 'Data Analysis', 8]]"
            ]
          },
          "metadata": {
            "tags": []
          },
          "execution_count": 15
        }
      ]
    },
    {
      "cell_type": "code",
      "metadata": {
        "id": "g7ib24KrqUHw"
      },
      "source": [
        "## Insert Fuction - Helps to Add element at Particular Position\n",
        "lst_1.insert(2, \"Nagpur\")"
      ],
      "execution_count": 16,
      "outputs": []
    },
    {
      "cell_type": "code",
      "metadata": {
        "colab": {
          "base_uri": "https://localhost:8080/"
        },
        "id": "q2jZq-EbqeyH",
        "outputId": "477a7ca7-8ed3-4015-c1c6-5d39d9ee5b2e"
      },
      "source": [
        "lst_1"
      ],
      "execution_count": 17,
      "outputs": [
        {
          "output_type": "execute_result",
          "data": {
            "text/plain": [
              "['Maths',\n",
              " 'Bobby',\n",
              " 'Nagpur',\n",
              " 1,\n",
              " 2,\n",
              " 3,\n",
              " 4,\n",
              " 5.4,\n",
              " 'Numbers',\n",
              " ['Mumbai', 'Data Analysis', 8]]"
            ]
          },
          "metadata": {
            "tags": []
          },
          "execution_count": 17
        }
      ]
    },
    {
      "cell_type": "code",
      "metadata": {
        "colab": {
          "base_uri": "https://localhost:8080/"
        },
        "id": "4SMEuFAMq_te",
        "outputId": "a4670f53-ce07-4626-fcaf-b55fdb3f84fa"
      },
      "source": [
        "## Extend - To add element as a Seperate element not as Nested List like append Function\n",
        "lst_2 = [1,2,3,4,5,6,7]\n",
        "lst_2"
      ],
      "execution_count": 18,
      "outputs": [
        {
          "output_type": "execute_result",
          "data": {
            "text/plain": [
              "[1, 2, 3, 4, 5, 6, 7]"
            ]
          },
          "metadata": {
            "tags": []
          },
          "execution_count": 18
        }
      ]
    },
    {
      "cell_type": "code",
      "metadata": {
        "colab": {
          "base_uri": "https://localhost:8080/"
        },
        "id": "-huCjSMirM6V",
        "outputId": "ee7d0bf7-3575-42c2-80da-1e8bfa25eee3"
      },
      "source": [
        "lst_2.extend([8,9])\n",
        "lst_2"
      ],
      "execution_count": 21,
      "outputs": [
        {
          "output_type": "execute_result",
          "data": {
            "text/plain": [
              "[1, 2, 3, 4, 5, 6, 7, 8, 9, 8, 9]"
            ]
          },
          "metadata": {
            "tags": []
          },
          "execution_count": 21
        }
      ]
    },
    {
      "cell_type": "code",
      "metadata": {
        "id": "xe0TY8w0razV"
      },
      "source": [
        "# Various Operation Perform on Lists\n",
        "\n",
        "lst_3 = [1,2,3,4,5]"
      ],
      "execution_count": 22,
      "outputs": []
    },
    {
      "cell_type": "code",
      "metadata": {
        "colab": {
          "base_uri": "https://localhost:8080/"
        },
        "id": "5BC7JLR2rkWE",
        "outputId": "d6027ac3-e48a-40ea-e1b0-954552919cc1"
      },
      "source": [
        "sum(lst_3)"
      ],
      "execution_count": 23,
      "outputs": [
        {
          "output_type": "execute_result",
          "data": {
            "text/plain": [
              "15"
            ]
          },
          "metadata": {
            "tags": []
          },
          "execution_count": 23
        }
      ]
    },
    {
      "cell_type": "code",
      "metadata": {
        "colab": {
          "base_uri": "https://localhost:8080/"
        },
        "id": "ERd-bAM6ru5c",
        "outputId": "47160616-80ae-472a-84fd-03318d03ebd5"
      },
      "source": [
        "## Pop - Removes the Last Element or we can give number which we want to remove\n",
        "\n",
        "lst_3.pop()"
      ],
      "execution_count": 24,
      "outputs": [
        {
          "output_type": "execute_result",
          "data": {
            "text/plain": [
              "5"
            ]
          },
          "metadata": {
            "tags": []
          },
          "execution_count": 24
        }
      ]
    },
    {
      "cell_type": "code",
      "metadata": {
        "colab": {
          "base_uri": "https://localhost:8080/"
        },
        "id": "5pSd6pYyrzYz",
        "outputId": "d266adf3-2526-480e-d474-7e29ef652fdd"
      },
      "source": [
        "lst_3"
      ],
      "execution_count": 25,
      "outputs": [
        {
          "output_type": "execute_result",
          "data": {
            "text/plain": [
              "[1, 2, 3, 4]"
            ]
          },
          "metadata": {
            "tags": []
          },
          "execution_count": 25
        }
      ]
    },
    {
      "cell_type": "code",
      "metadata": {
        "colab": {
          "base_uri": "https://localhost:8080/"
        },
        "id": "WZt3TguBsCi7",
        "outputId": "c571afb9-f4b9-446c-afcd-1e7d0b83c56b"
      },
      "source": [
        "lst_3.pop(2)"
      ],
      "execution_count": 27,
      "outputs": [
        {
          "output_type": "execute_result",
          "data": {
            "text/plain": [
              "3"
            ]
          },
          "metadata": {
            "tags": []
          },
          "execution_count": 27
        }
      ]
    },
    {
      "cell_type": "code",
      "metadata": {
        "colab": {
          "base_uri": "https://localhost:8080/"
        },
        "id": "HGPSskYssHYi",
        "outputId": "cbe5e339-edde-410c-f672-07fc86042940"
      },
      "source": [
        "lst_3"
      ],
      "execution_count": 28,
      "outputs": [
        {
          "output_type": "execute_result",
          "data": {
            "text/plain": [
              "[1, 2, 4]"
            ]
          },
          "metadata": {
            "tags": []
          },
          "execution_count": 28
        }
      ]
    },
    {
      "cell_type": "code",
      "metadata": {
        "id": "mXv8fibPsOeL"
      },
      "source": [
        "## Count - Calculates the Total occurances of given element\n",
        "lst_4 = [1,1,2,3,4,1,6,7,8,8,9,9,9]"
      ],
      "execution_count": 29,
      "outputs": []
    },
    {
      "cell_type": "code",
      "metadata": {
        "colab": {
          "base_uri": "https://localhost:8080/"
        },
        "id": "7jUDFhGrshFh",
        "outputId": "4c6fb827-54e6-46e2-c37a-8d1a9bccb147"
      },
      "source": [
        "lst_4.count(1)"
      ],
      "execution_count": 30,
      "outputs": [
        {
          "output_type": "execute_result",
          "data": {
            "text/plain": [
              "3"
            ]
          },
          "metadata": {
            "tags": []
          },
          "execution_count": 30
        }
      ]
    },
    {
      "cell_type": "code",
      "metadata": {
        "colab": {
          "base_uri": "https://localhost:8080/"
        },
        "id": "5gRk5o0QsqXr",
        "outputId": "7967fc1c-5c1d-4c5b-8866-13204c92f7b7"
      },
      "source": [
        "# Length of the List\n",
        "len(lst_4)"
      ],
      "execution_count": 31,
      "outputs": [
        {
          "output_type": "execute_result",
          "data": {
            "text/plain": [
              "13"
            ]
          },
          "metadata": {
            "tags": []
          },
          "execution_count": 31
        }
      ]
    },
    {
      "cell_type": "code",
      "metadata": {
        "colab": {
          "base_uri": "https://localhost:8080/"
        },
        "id": "drDOW4HzsvDp",
        "outputId": "63b5a025-7ad1-4d8c-d7b9-cf29148fb5e5"
      },
      "source": [
        "# Index Function - Returns the Index of First Occurance - Start and End Index are not necessary parameters\n",
        "\n",
        "lst_4.index(1,3,6)"
      ],
      "execution_count": 32,
      "outputs": [
        {
          "output_type": "execute_result",
          "data": {
            "text/plain": [
              "5"
            ]
          },
          "metadata": {
            "tags": []
          },
          "execution_count": 32
        }
      ]
    },
    {
      "cell_type": "code",
      "metadata": {
        "colab": {
          "base_uri": "https://localhost:8080/"
        },
        "id": "pwR-iBomtWb_",
        "outputId": "dabdcda1-8735-47c4-8cb8-1dbaa678310c"
      },
      "source": [
        "## Min and Max \n",
        "min(lst_4)"
      ],
      "execution_count": 33,
      "outputs": [
        {
          "output_type": "execute_result",
          "data": {
            "text/plain": [
              "1"
            ]
          },
          "metadata": {
            "tags": []
          },
          "execution_count": 33
        }
      ]
    },
    {
      "cell_type": "code",
      "metadata": {
        "colab": {
          "base_uri": "https://localhost:8080/"
        },
        "id": "yiIjRoSbtgeH",
        "outputId": "8053bc3b-b078-4680-90c8-c109a6bf0a31"
      },
      "source": [
        "max(lst_4)"
      ],
      "execution_count": 34,
      "outputs": [
        {
          "output_type": "execute_result",
          "data": {
            "text/plain": [
              "9"
            ]
          },
          "metadata": {
            "tags": []
          },
          "execution_count": 34
        }
      ]
    },
    {
      "cell_type": "code",
      "metadata": {
        "colab": {
          "base_uri": "https://localhost:8080/"
        },
        "id": "YYF7R2Ihtr9W",
        "outputId": "21d8f09f-336a-4d9d-d87c-d86dfa03321d"
      },
      "source": [
        "## Opearations \n",
        "\n",
        "lst_4*2"
      ],
      "execution_count": 35,
      "outputs": [
        {
          "output_type": "execute_result",
          "data": {
            "text/plain": [
              "[1, 1, 2, 3, 4, 1, 6, 7, 8, 8, 9, 9, 9, 1, 1, 2, 3, 4, 1, 6, 7, 8, 8, 9, 9, 9]"
            ]
          },
          "metadata": {
            "tags": []
          },
          "execution_count": 35
        }
      ]
    }
  ]
}