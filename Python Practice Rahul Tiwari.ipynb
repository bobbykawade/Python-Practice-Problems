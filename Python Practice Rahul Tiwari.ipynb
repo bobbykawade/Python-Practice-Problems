{
 "cells": [
  {
   "cell_type": "code",
   "execution_count": 3,
   "id": "da257cee",
   "metadata": {},
   "outputs": [
    {
     "name": "stdout",
     "output_type": "stream",
     "text": [
      "Enter the string: Rahul\n",
      "At the index 1 The Value is a\n",
      "At the index 2 The Value is h\n",
      "At the index 3 The Value is u\n",
      "At the index 4 The Value is l\n"
     ]
    }
   ],
   "source": [
    "s = input('Enter the string: ')\n",
    "i = 0\n",
    "\n",
    "for x in s:\n",
    "    if i != 0:\n",
    "        print('At the index', i, 'The Value is', x)\n",
    "    i = i + 1"
   ]
  },
  {
   "cell_type": "code",
   "execution_count": 4,
   "id": "c8ae47a9",
   "metadata": {},
   "outputs": [
    {
     "name": "stdout",
     "output_type": "stream",
     "text": [
      "Hello World\n",
      "Hello World\n",
      "Hello World\n",
      "Hello World\n",
      "Hello World\n",
      "Hello World\n",
      "Hello World\n",
      "Hello World\n",
      "Hello World\n",
      "Hello World\n"
     ]
    }
   ],
   "source": [
    "for i in range(0,10):\n",
    "    print(\"Hello World\")"
   ]
  },
  {
   "cell_type": "code",
   "execution_count": 6,
   "id": "c94dc9b8",
   "metadata": {},
   "outputs": [],
   "source": [
    "#for i in range(0,100):\n",
    "#    if i%2 != 0:\n",
    "#        print(i)"
   ]
  },
  {
   "cell_type": "code",
   "execution_count": 7,
   "id": "88ce1975",
   "metadata": {},
   "outputs": [
    {
     "name": "stdout",
     "output_type": "stream",
     "text": [
      "0\n",
      "2\n",
      "4\n",
      "6\n",
      "8\n",
      "10\n",
      "12\n",
      "14\n",
      "16\n",
      "18\n",
      "20\n"
     ]
    }
   ],
   "source": [
    "for i in range(0,21,2):\n",
    "    print(i)"
   ]
  },
  {
   "cell_type": "markdown",
   "id": "6f32daea",
   "metadata": {},
   "source": [
    "# While Loop"
   ]
  },
  {
   "cell_type": "code",
   "execution_count": 8,
   "id": "8ac82615",
   "metadata": {},
   "outputs": [
    {
     "name": "stdout",
     "output_type": "stream",
     "text": [
      "1\n",
      "2\n",
      "3\n",
      "4\n",
      "5\n",
      "6\n",
      "7\n",
      "8\n",
      "9\n"
     ]
    }
   ],
   "source": [
    "x = 1\n",
    "while x < 10:\n",
    "    print(x)\n",
    "    x = x + 1"
   ]
  },
  {
   "cell_type": "code",
   "execution_count": 9,
   "id": "ce31bff0",
   "metadata": {},
   "outputs": [
    {
     "name": "stdout",
     "output_type": "stream",
     "text": [
      "Hello World\n"
     ]
    }
   ],
   "source": [
    "while False:\n",
    "    print('HI')\n",
    "print('Hello World')"
   ]
  },
  {
   "cell_type": "code",
   "execution_count": 10,
   "id": "6bd7accb",
   "metadata": {},
   "outputs": [
    {
     "name": "stdout",
     "output_type": "stream",
     "text": [
      "Hello\n"
     ]
    }
   ],
   "source": [
    "while 1 == 2:\n",
    "    print('HI')\n",
    "print('Hello')"
   ]
  },
  {
   "cell_type": "code",
   "execution_count": 11,
   "id": "1925aae7",
   "metadata": {},
   "outputs": [
    {
     "name": "stdout",
     "output_type": "stream",
     "text": [
      "Enter the number5\n",
      "15\n"
     ]
    }
   ],
   "source": [
    "# The sum of First n numbers\n",
    "\n",
    "n = int(input('Enter the number'))\n",
    "sum = 0\n",
    "i = 1\n",
    "while i <= n:\n",
    "    sum = sum + i\n",
    "    i = i + 1\n",
    "print(sum)\n"
   ]
  },
  {
   "cell_type": "code",
   "execution_count": 12,
   "id": "a850c662",
   "metadata": {},
   "outputs": [
    {
     "name": "stdout",
     "output_type": "stream",
     "text": [
      "Enter the namebobby\n",
      "Enter the nameRahul\n",
      "cool\n"
     ]
    }
   ],
   "source": [
    "n = input('Enter the name')\n",
    "while n != 'Rahul':\n",
    "    n = input('Enter the name')\n",
    "print('cool')"
   ]
  },
  {
   "cell_type": "code",
   "execution_count": 13,
   "id": "bccde333",
   "metadata": {},
   "outputs": [
    {
     "name": "stdout",
     "output_type": "stream",
     "text": [
      "Enter the namebobby\n",
      "Enter the Passwordnagpur\n",
      "Enter the nameRahul\n",
      "Enter the PasswordNagpur\n",
      "Logged in sucessfully\n"
     ]
    }
   ],
   "source": [
    "# ID & Password Project\n",
    "\n",
    "n = input('Enter the name')\n",
    "p = input('Enter the Password')\n",
    "while (n!= 'Rahul') or (p!='Nagpur'):\n",
    "    n = input('Enter the name')\n",
    "    p = input('Enter the Password')\n",
    "print('Logged in sucessfully')"
   ]
  },
  {
   "cell_type": "code",
   "execution_count": 16,
   "id": "40bf14a6",
   "metadata": {},
   "outputs": [
    {
     "name": "stdout",
     "output_type": "stream",
     "text": [
      "i = 0 and j = 0\n",
      "i = 0 and j = 1\n",
      "i = 0 and j = 2\n",
      "i = 0 and j = 3\n",
      "i = 1 and j = 0\n",
      "i = 1 and j = 1\n",
      "i = 1 and j = 2\n",
      "i = 1 and j = 3\n",
      "i = 2 and j = 0\n",
      "i = 2 and j = 1\n",
      "i = 2 and j = 2\n",
      "i = 2 and j = 3\n",
      "i = 3 and j = 0\n",
      "i = 3 and j = 1\n",
      "i = 3 and j = 2\n",
      "i = 3 and j = 3\n"
     ]
    }
   ],
   "source": [
    "for i in range(4):\n",
    "    for j in range(4):\n",
    "        print('i = {} and j = {}'.format(i,j))"
   ]
  },
  {
   "cell_type": "code",
   "execution_count": 22,
   "id": "a93aa7ad",
   "metadata": {},
   "outputs": [
    {
     "name": "stdout",
     "output_type": "stream",
     "text": [
      "Number of Rows3\n",
      "*\n",
      "**\n",
      "***\n"
     ]
    }
   ],
   "source": [
    "n = int(input('Number of Rows'))\n",
    "for i in range(1, n+1):\n",
    "    for j in range(1, i+1):\n",
    "        print('*',end='')\n",
    "    print()"
   ]
  },
  {
   "cell_type": "code",
   "execution_count": 30,
   "id": "e8f04341",
   "metadata": {},
   "outputs": [
    {
     "name": "stdout",
     "output_type": "stream",
     "text": [
      "Number of Rows3\n",
      "* * * \n",
      "* * * \n",
      "* * * \n",
      "* * * \n"
     ]
    }
   ],
   "source": [
    "n = int(input('Number of Rows'))\n",
    "for i in range(4):\n",
    "    print('* '*n)"
   ]
  },
  {
   "cell_type": "code",
   "execution_count": 32,
   "id": "966b59cb",
   "metadata": {},
   "outputs": [
    {
     "name": "stdout",
     "output_type": "stream",
     "text": [
      "Number of Rows2\n",
      "**\n",
      "**\n"
     ]
    }
   ],
   "source": [
    "n = int(input('Number of Rows'))\n",
    "for i in range(n):\n",
    "    for j in range(n):\n",
    "        print('*', end='')\n",
    "    print()"
   ]
  },
  {
   "cell_type": "markdown",
   "id": "f76c82d5",
   "metadata": {},
   "source": [
    "## Transfer Statements\n",
    "\n",
    "### Break\n",
    "### Continue\n",
    "### Pass"
   ]
  },
  {
   "cell_type": "code",
   "execution_count": 33,
   "id": "918e2b3a",
   "metadata": {},
   "outputs": [
    {
     "name": "stdout",
     "output_type": "stream",
     "text": [
      "0\n",
      "1\n",
      "2\n",
      "3\n",
      "4\n",
      "5\n",
      "6\n",
      "Process is happening...please break\n"
     ]
    }
   ],
   "source": [
    "for i in range(10):\n",
    "    if i==7:\n",
    "        print('Process is happening...please break')\n",
    "        break\n",
    "    print(i)"
   ]
  },
  {
   "cell_type": "code",
   "execution_count": 34,
   "id": "b48c2e2a",
   "metadata": {},
   "outputs": [
    {
     "name": "stdout",
     "output_type": "stream",
     "text": [
      "Processing Item 10\n",
      "Processing Item 20\n",
      "Processing Item 30\n",
      "Processing Item 40\n",
      "We can't process the order\n"
     ]
    }
   ],
   "source": [
    "cart = [10,20,30,40,600,70]\n",
    "for item in cart:\n",
    "    if item > 500:\n",
    "        print(\"We can't process the order\")\n",
    "        break\n",
    "    print('Processing Item', item)"
   ]
  },
  {
   "cell_type": "code",
   "execution_count": 39,
   "id": "a0e09cff",
   "metadata": {},
   "outputs": [
    {
     "name": "stdout",
     "output_type": "stream",
     "text": [
      "Processing Item 10\n",
      "Processing Item 20\n",
      "Processing Item 30\n",
      "*We can't process this order as this order consists of 650 items\n",
      "Processing Item 40\n",
      "*We can't process this order as this order consists of 600 items\n",
      "Processing Item 70\n",
      "Processing Item 80\n",
      "Processing Item 90\n",
      "Processing Item 100\n"
     ]
    }
   ],
   "source": [
    "#Continue\n",
    "\n",
    "cart = [10,20,30,650,40,600,70,80,90,100]\n",
    "for item in cart:\n",
    "    if item > 500:\n",
    "        print(\"*We can't process this order as this order consists of\", item, 'items')\n",
    "        continue\n",
    "    print('Processing Item', item)"
   ]
  },
  {
   "cell_type": "code",
   "execution_count": 40,
   "id": "aa25c613",
   "metadata": {},
   "outputs": [
    {
     "name": "stdout",
     "output_type": "stream",
     "text": [
      "1\n",
      "3\n",
      "5\n",
      "7\n",
      "9\n"
     ]
    }
   ],
   "source": [
    "for i in range(10):\n",
    "    if i%2 == 0:\n",
    "        continue\n",
    "    print(i)"
   ]
  },
  {
   "cell_type": "code",
   "execution_count": 42,
   "id": "eb9eeb57",
   "metadata": {},
   "outputs": [
    {
     "name": "stdout",
     "output_type": "stream",
     "text": [
      "100/10 = 10.0\n",
      "100/20 = 5.0\n",
      "Cannot divide with 0\n",
      "100/5 = 20.0\n",
      "Cannot divide with 0\n",
      "100/30 = 3.3333333333333335\n"
     ]
    }
   ],
   "source": [
    "numbers = [10, 20, 0, 5, 0, 30]\n",
    "for n in numbers:\n",
    "    if n ==0:\n",
    "        print('Cannot divide with 0')\n",
    "        continue\n",
    "    print('100/{} = {}'.format(n,100/n))"
   ]
  },
  {
   "cell_type": "code",
   "execution_count": 43,
   "id": "3bf7b14e",
   "metadata": {},
   "outputs": [
    {
     "name": "stdout",
     "output_type": "stream",
     "text": [
      "Processing Item 10\n",
      "Processing Item 20\n",
      "Processing Item 30\n",
      "Processing Item 40\n",
      "We can't process the order\n",
      "Processing Item 600\n",
      "Processing Item 70\n"
     ]
    }
   ],
   "source": [
    "#Pass\n",
    "cart = [10,20,30,40,600,70]\n",
    "for item in cart:\n",
    "    if item > 500:\n",
    "        print(\"We can't process the order\")\n",
    "        pass\n",
    "    print('Processing Item', item)"
   ]
  },
  {
   "cell_type": "code",
   "execution_count": 45,
   "id": "9409cef9",
   "metadata": {},
   "outputs": [
    {
     "name": "stdout",
     "output_type": "stream",
     "text": [
      "Processing Item 10\n",
      "Processing Item 20\n",
      "Processing Item 30\n",
      "*We can't process this order as this order consists of 650 items\n",
      "Processing Item 650\n",
      "Processing Item 40\n",
      "*We can't process this order as this order consists of 600 items\n",
      "Processing Item 600\n",
      "Processing Item 70\n",
      "Processing Item 80\n",
      "Processing Item 90\n",
      "Processing Item 100\n"
     ]
    }
   ],
   "source": [
    "cart = [10,20,30,650,40,600,70,80,90,100]\n",
    "for item in cart:\n",
    "    if item > 500:\n",
    "        print(\"*We can't process this order as this order consists of\", item, 'items')\n",
    "        pass\n",
    "    print('Processing Item', item)"
   ]
  },
  {
   "cell_type": "code",
   "execution_count": 47,
   "id": "34831652",
   "metadata": {},
   "outputs": [
    {
     "name": "stdout",
     "output_type": "stream",
     "text": [
      "Processing Item 10\n",
      "Processing Item 20\n",
      "Processing Item 30\n",
      "sorry we can't process\n"
     ]
    }
   ],
   "source": [
    "# For--else\n",
    "cart = [10,20,30,650,40,600,70,80,90,100]\n",
    "for item in cart:\n",
    "    if item>500:\n",
    "        print(\"sorry we can't process\")\n",
    "        break\n",
    "    print(\"Processing Item\", item)\n",
    "else:\n",
    "    print(\"Processed All\")"
   ]
  },
  {
   "cell_type": "markdown",
   "id": "2c2f1e6c",
   "metadata": {},
   "source": [
    "# Python: String Operations"
   ]
  },
  {
   "cell_type": "code",
   "execution_count": 52,
   "id": "6148c2b6",
   "metadata": {},
   "outputs": [
    {
     "name": "stdout",
     "output_type": "stream",
     "text": [
      "Enter your city name: Gurgoan\n",
      "Your city name Gurgoan is unavailable\n"
     ]
    }
   ],
   "source": [
    "city = input(\"Enter your city name: \")\n",
    "list = [\"Mumbai\", \"Delhi\", \"Nagpur\"]\n",
    "if city in list:\n",
    "    print(\"Your city is available\")\n",
    "else:\n",
    "    print(\"Your city name\", city, \"is unavailable\")"
   ]
  },
  {
   "cell_type": "code",
   "execution_count": 53,
   "id": "5501abc4",
   "metadata": {},
   "outputs": [
    {
     "name": "stdout",
     "output_type": "stream",
     "text": [
      "Enter your city name:   Mumbai\n",
      "Your city is available\n"
     ]
    }
   ],
   "source": [
    "# Strip Method\n",
    "city = input(\"Enter your city name: \")\n",
    "list = [\"Mumbai\", \"Delhi\", \"Nagpur\"]\n",
    "if city.strip() in list:\n",
    "    print(\"Your city is available\")\n",
    "else:\n",
    "    print(\"Your city name\", city, \"is unavailable\")"
   ]
  },
  {
   "cell_type": "code",
   "execution_count": 1,
   "id": "0abe3607",
   "metadata": {},
   "outputs": [
    {
     "name": "stdout",
     "output_type": "stream",
     "text": [
      "Enter the city nameMumbai\n",
      "Your city is available\n"
     ]
    }
   ],
   "source": [
    "city = input('Enter the city name')\n",
    "list1 = ['Mumbai', 'Pune','Bengaluru','Chennai']\n",
    "if city.strip('$') in list1:\n",
    "    print('Your city is available')\n",
    "else:\n",
    "    print('Your city is not available')"
   ]
  },
  {
   "cell_type": "code",
   "execution_count": 9,
   "id": "75521d4f",
   "metadata": {},
   "outputs": [
    {
     "name": "stdout",
     "output_type": "stream",
     "text": [
      "-1\n",
      "5\n",
      "16\n",
      "16\n",
      "16\n"
     ]
    }
   ],
   "source": [
    "s = 'RahulTiwariRahulTiwari'\n",
    "print(s.find('Roohan'))\n",
    "print(s.find('Tiwari'))\n",
    "print(s.find('Tiwari', 7,22))\n",
    "#If the value is not present it will return -1 (This is not reverse index)\n",
    "#If the value is present it will give the 1st iteration of that value from left to right\n",
    "print(s.rfind('Tiwari'))\n",
    "#rfind is reverse find giving the index from Right to left\n",
    "print(s.rfind('Tiwari', 7,22))"
   ]
  },
  {
   "cell_type": "code",
   "execution_count": 10,
   "id": "aeff8fca",
   "metadata": {},
   "outputs": [
    {
     "name": "stdout",
     "output_type": "stream",
     "text": [
      "Enter the main stringrahultiwari\n",
      "What you are looking for?t\n",
      "Found at index: 5\n"
     ]
    }
   ],
   "source": [
    "#All the occurances of the value in the string rahullllllluull\n",
    "s = input('Enter the main string')\n",
    "sub = input('What you are looking for?')\n",
    "flag = False\n",
    "pos = -1\n",
    "n = len(s)\n",
    "while True:\n",
    "    pos = s.find(sub, pos+1, n)\n",
    "    if pos==-1:\n",
    "        break\n",
    "    print('Found at index:', pos)\n",
    "    flag = True\n",
    "if flag == False:\n",
    "    print('Not Found')"
   ]
  },
  {
   "cell_type": "code",
   "execution_count": 11,
   "id": "2b252b9d",
   "metadata": {},
   "outputs": [
    {
     "name": "stdout",
     "output_type": "stream",
     "text": [
      "Enter the main stringrahullllllluull\n",
      "What you are looking for?l\n",
      "Found at index: 4\n",
      "Found at index: 5\n",
      "Found at index: 6\n",
      "Found at index: 7\n",
      "Found at index: 8\n",
      "Found at index: 9\n",
      "Found at index: 10\n",
      "Found at index: 13\n",
      "Found at index: 14\n",
      "9\n"
     ]
    }
   ],
   "source": [
    "#All the occurances of the value in the string rahullllllluull\n",
    "s = input('Enter the main string')\n",
    "sub = input('What you are looking for?')\n",
    "flag = False\n",
    "pos = -1\n",
    "n = len(s)\n",
    "count = 0\n",
    "while True:\n",
    "    pos = s.find(sub, pos+1, n)\n",
    "    if pos==-1:\n",
    "        break\n",
    "    print('Found at index:', pos)\n",
    "    flag = True\n",
    "    count = count + 1\n",
    "if flag == False:\n",
    "    print('Not Found')\n",
    "print(count)"
   ]
  },
  {
   "cell_type": "code",
   "execution_count": 12,
   "id": "2fb31db4",
   "metadata": {},
   "outputs": [
    {
     "name": "stdout",
     "output_type": "stream",
     "text": [
      "2\n",
      "0\n",
      "1\n"
     ]
    }
   ],
   "source": [
    "#Count\n",
    "s = 'rahultiwarirahultiwari'\n",
    "print(s.count('rahul'))\n",
    "print(s.count('Rahul'))\n",
    "print(s.count('rahul',7,22))"
   ]
  },
  {
   "cell_type": "code",
   "execution_count": 13,
   "id": "32fce03b",
   "metadata": {},
   "outputs": [
    {
     "data": {
      "text/plain": [
       "'atharvtiwariatharvtiwari'"
      ]
     },
     "execution_count": 13,
     "metadata": {},
     "output_type": "execute_result"
    }
   ],
   "source": [
    "#Replace\n",
    "s = 'rahultiwarirahultiwari'\n",
    "s.replace('rahul','atharv')"
   ]
  },
  {
   "cell_type": "code",
   "execution_count": 14,
   "id": "6adca495",
   "metadata": {},
   "outputs": [
    {
     "data": {
      "text/plain": [
       "['rahul', 'tiwari', 'atharv']"
      ]
     },
     "execution_count": 14,
     "metadata": {},
     "output_type": "execute_result"
    }
   ],
   "source": [
    "s = 'rahul$tiwari$atharv'\n",
    "list = s.split('$')\n",
    "list"
   ]
  },
  {
   "cell_type": "code",
   "execution_count": 15,
   "id": "3416dd23",
   "metadata": {},
   "outputs": [
    {
     "data": {
      "text/plain": [
       "['Rahul', 'Tiwari', 'Python', 'Edureka-Morning-Batch-7AM']"
      ]
     },
     "execution_count": 15,
     "metadata": {},
     "output_type": "execute_result"
    }
   ],
   "source": [
    "s = 'Rahul-Tiwari-Python-Edureka-Morning-Batch-7AM'\n",
    "list1 = s.split('-',3)\n",
    "list1"
   ]
  },
  {
   "cell_type": "code",
   "execution_count": 16,
   "id": "2d005fea",
   "metadata": {},
   "outputs": [
    {
     "data": {
      "text/plain": [
       "'Rahul$Tiwari$Atharv'"
      ]
     },
     "execution_count": 16,
     "metadata": {},
     "output_type": "execute_result"
    }
   ],
   "source": [
    "l = ['Rahul','Tiwari','Atharv']\n",
    "s = '$'.join(l)\n",
    "type(s)\n",
    "s"
   ]
  },
  {
   "cell_type": "code",
   "execution_count": 17,
   "id": "a509f14e",
   "metadata": {},
   "outputs": [
    {
     "name": "stdout",
     "output_type": "stream",
     "text": [
      "RAHUL TIWARI IS A DATA SCIENTIST\n",
      "rahul tiwari is a data scientist\n",
      "rAHUL tIWARI IS A dATA sCIENTIST\n",
      "Rahul Tiwari Is A Data Scientist\n",
      "Rahul tiwari is a data scientist\n"
     ]
    }
   ],
   "source": [
    "s = 'Rahul Tiwari is a Data Scientist'\n",
    "print(s.upper())\n",
    "print(s.lower())\n",
    "print(s.swapcase())\n",
    "print(s.title())\n",
    "print(s.capitalize())"
   ]
  },
  {
   "cell_type": "code",
   "execution_count": 18,
   "id": "17854f2d",
   "metadata": {},
   "outputs": [
    {
     "name": "stdout",
     "output_type": "stream",
     "text": [
      "True\n",
      "True\n"
     ]
    }
   ],
   "source": [
    "s = 'Learning Python is very easy'\n",
    "print(s.startswith('Learn'))\n",
    "print(s.endswith('easy'))"
   ]
  },
  {
   "cell_type": "code",
   "execution_count": null,
   "id": "165a334d",
   "metadata": {},
   "outputs": [],
   "source": [
    "#Type of character present in the string\n",
    "isalnum()\n",
    "isalpha()\n",
    "isdigit()\n",
    "islower()\n",
    "isupper()\n",
    "istitle()\n",
    "isspace()"
   ]
  },
  {
   "cell_type": "code",
   "execution_count": 19,
   "id": "8edc2072",
   "metadata": {},
   "outputs": [
    {
     "name": "stdout",
     "output_type": "stream",
     "text": [
      "True\n",
      "False\n",
      "True\n",
      "True\n",
      "False\n",
      "True\n",
      "False\n",
      "True\n"
     ]
    }
   ],
   "source": [
    "print('Rahul'.isalnum())\n",
    "print('$$$$$'.isalnum())\n",
    "print('123'.isdigit())\n",
    "print('rahul'.islower())\n",
    "print('rahul'.isupper())\n",
    "print('Rahul'.istitle())\n",
    "print('rahul tiwari'.isspace())\n",
    "print('        '.isspace())"
   ]
  },
  {
   "cell_type": "code",
   "execution_count": 20,
   "id": "7bfae884",
   "metadata": {},
   "outputs": [
    {
     "name": "stdout",
     "output_type": "stream",
     "text": [
      "Enter the stringrahullllllllll\n",
      "Alpha Numeric Character\n",
      "Alphabets present only\n",
      "Lower Case\n"
     ]
    }
   ],
   "source": [
    "s = input('Enter the string')\n",
    "if s.isalnum():\n",
    "    print('Alpha Numeric Character')\n",
    "    if s.isalpha():\n",
    "        print('Alphabets present only')\n",
    "        if s.islower():\n",
    "            print('Lower Case')\n",
    "        elif s.isupper():\n",
    "            print('Upper Case')\n",
    "        else:\n",
    "            print('Title Case')\n",
    "    else:\n",
    "        print('It is a digit')\n",
    "elif s.isspace():\n",
    "    print('It is a space')\n",
    "else:\n",
    "    print('Looks like special character')"
   ]
  },
  {
   "cell_type": "code",
   "execution_count": 21,
   "id": "a9baba1a",
   "metadata": {},
   "outputs": [
    {
     "name": "stdout",
     "output_type": "stream",
     "text": [
      "Enter the stringbobby\n"
     ]
    },
    {
     "data": {
      "text/plain": [
       "'ybbob'"
      ]
     },
     "execution_count": 21,
     "metadata": {},
     "output_type": "execute_result"
    }
   ],
   "source": [
    "#Reverse oof String\n",
    "s = input('Enter the string')\n",
    "s[::-1]"
   ]
  },
  {
   "cell_type": "code",
   "execution_count": 22,
   "id": "7c7e5b70",
   "metadata": {},
   "outputs": [
    {
     "name": "stdout",
     "output_type": "stream",
     "text": [
      "Enter the stringbobby\n",
      "ybbob"
     ]
    }
   ],
   "source": [
    "s = input('Enter the string')\n",
    "reversed(s)\n",
    "for x in reversed(s):\n",
    "    print(x, end='')"
   ]
  },
  {
   "cell_type": "code",
   "execution_count": 23,
   "id": "44ce354a",
   "metadata": {},
   "outputs": [
    {
     "name": "stdout",
     "output_type": "stream",
     "text": [
      "Enter the stringbobby\n",
      "ybbob\n"
     ]
    }
   ],
   "source": [
    "s = input('Enter the string')\n",
    "print(''.join(reversed(s)))"
   ]
  },
  {
   "cell_type": "code",
   "execution_count": 24,
   "id": "6095c97d",
   "metadata": {},
   "outputs": [
    {
     "name": "stdout",
     "output_type": "stream",
     "text": [
      "Enter the stringbobby\n",
      "4\n",
      "ybbob\n"
     ]
    }
   ],
   "source": [
    "s = input('Enter the string')\n",
    "i = len(s) - 1\n",
    "print(i)\n",
    "output=''\n",
    "while i>=0:\n",
    "    output = output+s[i]\n",
    "    i = i - 1\n",
    "print(output)"
   ]
  },
  {
   "cell_type": "code",
   "execution_count": 25,
   "id": "ec923547",
   "metadata": {},
   "outputs": [
    {
     "name": "stdout",
     "output_type": "stream",
     "text": [
      "Enter the stringbobby kawade\n",
      "['bobby', 'kawade']\n",
      "['kawade', 'bobby']\n",
      "kawade bobby\n"
     ]
    }
   ],
   "source": [
    "s = input('Enter the string')\n",
    "list = s.split()\n",
    "print(list)\n",
    "l1 = []\n",
    "i = len(list) - 1\n",
    "while i >=0:\n",
    "    l1.append(list[i])\n",
    "    i = i - 1\n",
    "print(l1)\n",
    "output = ' '.join(l1)\n",
    "print(output)"
   ]
  },
  {
   "cell_type": "code",
   "execution_count": null,
   "id": "293fbd00",
   "metadata": {},
   "outputs": [],
   "source": [
    "s = input('Enter the string')\n",
    "l = s.split()\n",
    "l1 = []\n",
    "for x in l:\n",
    "    l1.append(x[::-1])\n",
    "print(l1)\n",
    "output = ' '.join(l1)\n",
    "print(output)"
   ]
  },
  {
   "cell_type": "code",
   "execution_count": 26,
   "id": "76be6af7",
   "metadata": {},
   "outputs": [
    {
     "data": {
      "text/plain": [
       "'akerudE'"
      ]
     },
     "execution_count": 26,
     "metadata": {},
     "output_type": "execute_result"
    }
   ],
   "source": [
    "a = 'Edureka'\n",
    "a[::-1]"
   ]
  },
  {
   "cell_type": "code",
   "execution_count": 27,
   "id": "9fa555cf",
   "metadata": {},
   "outputs": [],
   "source": [
    "#Homework1: \n",
    "#edureka\n",
    "#0123456\n",
    "    #even index characters\n",
    "        #euea\n",
    "    #Odd index characters\n",
    "        #drk\n",
    "        \n",
    "#Homework2: \n",
    "#s1: John\n",
    "#s2: Jame\n",
    "#JJoahmne\n",
    "\n",
    "#Homework3:\n",
    "#input: B4A1D3\n",
    "#Output: ABD134\n",
    "\n",
    "#Homework4:\n",
    "#input: a4b3c2\n",
    "#Output: aaaabbbcc"
   ]
  },
  {
   "cell_type": "code",
   "execution_count": null,
   "id": "fbcc4861",
   "metadata": {},
   "outputs": [],
   "source": [
    "#rahul\n",
    "#0 2 4\n",
    "#rhl\n",
    "#au"
   ]
  },
  {
   "cell_type": "code",
   "execution_count": 28,
   "id": "9e43209a",
   "metadata": {},
   "outputs": [
    {
     "name": "stdout",
     "output_type": "stream",
     "text": [
      "Enter some stringRahulllll\n",
      "Characters at even position: Rhlll\n",
      "Characters at odd position: aull\n"
     ]
    }
   ],
   "source": [
    "s = input('Enter some string')\n",
    "print('Characters at even position:', s[::2])\n",
    "print('Characters at odd position:', s[1::2])"
   ]
  },
  {
   "cell_type": "code",
   "execution_count": 29,
   "id": "55389432",
   "metadata": {},
   "outputs": [
    {
     "name": "stdout",
     "output_type": "stream",
     "text": [
      "Enter some stringrahulllllll\n",
      "The characters at even position\n",
      "r,h,l,l,l,l,\n",
      "The characters at odd position\n",
      "a,u,l,l,l,"
     ]
    }
   ],
   "source": [
    "s = input('Enter some string')\n",
    "i = 0\n",
    "print('The characters at even position')\n",
    "while i < len(s):\n",
    "    print(s[i], end=',')\n",
    "    i = i+2\n",
    "print()\n",
    "print('The characters at odd position')\n",
    "i=1\n",
    "while i<len(s):\n",
    "    print(s[i], end=',')\n",
    "    i=i+2"
   ]
  },
  {
   "cell_type": "code",
   "execution_count": null,
   "id": "f7c04548",
   "metadata": {},
   "outputs": [],
   "source": [
    "#input B4A1D3\n",
    "#out ABD134"
   ]
  },
  {
   "cell_type": "code",
   "execution_count": 30,
   "id": "5420f28f",
   "metadata": {},
   "outputs": [
    {
     "name": "stdout",
     "output_type": "stream",
     "text": [
      "Enter some stringB4A1D3\n",
      "BAD\n",
      "413\n"
     ]
    }
   ],
   "source": [
    "s = input('Enter some string')\n",
    "s1 = s2 = output = ''\n",
    "for x in s:\n",
    "    if x.isalpha():\n",
    "        s1 = s1 + x\n",
    "    else:\n",
    "        s2 = s2 + x\n",
    "print(s1)\n",
    "print(s2)"
   ]
  },
  {
   "cell_type": "code",
   "execution_count": 31,
   "id": "eb21598b",
   "metadata": {},
   "outputs": [
    {
     "name": "stdout",
     "output_type": "stream",
     "text": [
      "Enter some stringb4a3d1\n",
      "abd134\n"
     ]
    }
   ],
   "source": [
    "s = input('Enter some string')\n",
    "s1 = s2 = output = ''\n",
    "for x in s:\n",
    "    if x.isalpha():\n",
    "        s1 = s1 + x\n",
    "    else:\n",
    "        s2 = s2 + x\n",
    "for x in sorted(s1):\n",
    "    output = output+x\n",
    "for x in sorted(s2):\n",
    "    output = output+x\n",
    "print(output)"
   ]
  },
  {
   "cell_type": "code",
   "execution_count": 32,
   "id": "24a57ca1",
   "metadata": {},
   "outputs": [
    {
     "name": "stdout",
     "output_type": "stream",
     "text": [
      "Enter some stringb4d3a1\n",
      "['1', '3', '4', 'a', 'b', 'd']\n"
     ]
    }
   ],
   "source": [
    "s = input('Enter some string')\n",
    "s1 = s2 = output = ''\n",
    "for x in s:\n",
    "    if x.isalpha():\n",
    "        s1 = s1 + x\n",
    "    else: \n",
    "        s2 = s2 + x\n",
    "output=s1+s2\n",
    "print(sorted(output))"
   ]
  },
  {
   "cell_type": "code",
   "execution_count": 33,
   "id": "9080e32e",
   "metadata": {},
   "outputs": [
    {
     "name": "stdout",
     "output_type": "stream",
     "text": [
      "Enter some stringaaaaa444555\n",
      "aaaaa444555\n"
     ]
    }
   ],
   "source": [
    "s = input('Enter some string')\n",
    "s1 = s2 = output = ''\n",
    "for x in s:\n",
    "    if x.isalpha():\n",
    "        s1 = s1 + x\n",
    "    elif x.isdigit():\n",
    "        s2 = s2 + x\n",
    "for x in sorted(s1):\n",
    "    output = output+x\n",
    "for x in sorted(s2):\n",
    "    output = output+x\n",
    "print(output)"
   ]
  },
  {
   "cell_type": "code",
   "execution_count": 34,
   "id": "a5b9db46",
   "metadata": {},
   "outputs": [
    {
     "name": "stdout",
     "output_type": "stream",
     "text": [
      "Enter some stringa4b3c5\n",
      "aaaabbbccccc\n"
     ]
    }
   ],
   "source": [
    "#input a4b3c2\n",
    "#out aaaabbbcc\n",
    "s = input('Enter some string')\n",
    "output = ''\n",
    "for x in s:\n",
    "    if x.isalpha():\n",
    "        output = output+x\n",
    "        previous = x\n",
    "    else:\n",
    "        output = output + previous*(int(x)-1)\n",
    "print(output)"
   ]
  },
  {
   "cell_type": "code",
   "execution_count": 35,
   "id": "a0c76a74",
   "metadata": {},
   "outputs": [],
   "source": [
    "#input1 = 'Rahul'\n",
    "#input2 = 'Rohit'\n",
    "#output - RRaohhuilt"
   ]
  },
  {
   "cell_type": "code",
   "execution_count": 36,
   "id": "354eb007",
   "metadata": {},
   "outputs": [
    {
     "name": "stdout",
     "output_type": "stream",
     "text": [
      "Enter the 1st stringRohit\n",
      "Enter the 2nd stringRohan\n",
      "RRoohhiatn\n"
     ]
    }
   ],
   "source": [
    "s1 = input('Enter the 1st string')\n",
    "s2 = input('Enter the 2nd string')\n",
    "output = ''\n",
    "i=j=0\n",
    "while i<len(s1) or j<len(s2):\n",
    "    output = output + s1[i] + s2[j]\n",
    "    i = i+1\n",
    "    j = j+1\n",
    "print(output)"
   ]
  },
  {
   "cell_type": "code",
   "execution_count": 37,
   "id": "2d7ebb97",
   "metadata": {},
   "outputs": [
    {
     "name": "stdout",
     "output_type": "stream",
     "text": [
      "Enter 1st StringRohit\n",
      "Enter 2nd stringRoli\n",
      "RRoohliit\n"
     ]
    }
   ],
   "source": [
    "s1 = input('Enter 1st String')\n",
    "s2 = input('Enter 2nd string')\n",
    "output = ''\n",
    "i=j=0\n",
    "while i<len(s1) or j<len(s2):\n",
    "    if i < len(s1):\n",
    "        output = output + s1[i]\n",
    "        i = i+1\n",
    "    if j < len(s2):\n",
    "        output = output + s2[j]\n",
    "        j = j + 1\n",
    "print(output)"
   ]
  },
  {
   "cell_type": "markdown",
   "id": "7e80e826",
   "metadata": {},
   "source": [
    "# Functions"
   ]
  },
  {
   "cell_type": "code",
   "execution_count": null,
   "id": "fc62cf85",
   "metadata": {},
   "outputs": [],
   "source": []
  }
 ],
 "metadata": {
  "kernelspec": {
   "display_name": "Python 3 (ipykernel)",
   "language": "python",
   "name": "python3"
  },
  "language_info": {
   "codemirror_mode": {
    "name": "ipython",
    "version": 3
   },
   "file_extension": ".py",
   "mimetype": "text/x-python",
   "name": "python",
   "nbconvert_exporter": "python",
   "pygments_lexer": "ipython3",
   "version": "3.11.7"
  }
 },
 "nbformat": 4,
 "nbformat_minor": 5
}
